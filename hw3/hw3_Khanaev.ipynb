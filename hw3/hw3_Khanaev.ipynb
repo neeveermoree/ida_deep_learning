{
 "cells": [
  {
   "cell_type": "markdown",
   "metadata": {
    "colab_type": "text",
    "id": "z8B5X2FLu2Xq"
   },
   "source": [
    "## Ханаев Антон ИАД-5"
   ]
  },
  {
   "cell_type": "markdown",
   "metadata": {
    "colab_type": "text",
    "id": "gO2BchskQWoH"
   },
   "source": [
    "# Домашнее задание 3.\n",
    "\n",
    "`Keras` и сверточные нейронные сети."
   ]
  },
  {
   "cell_type": "code",
   "execution_count": 1,
   "metadata": {
    "colab": {
     "base_uri": "https://localhost:8080/",
     "height": 69
    },
    "colab_type": "code",
    "id": "WmIuIaLEATMn",
    "outputId": "3b647c82-4393-4202-fe7a-abb329ff7572"
   },
   "outputs": [
    {
     "name": "stdout",
     "output_type": "stream",
     "text": [
      "1.15.0\n",
      "2.2.5\n"
     ]
    },
    {
     "name": "stderr",
     "output_type": "stream",
     "text": [
      "Using TensorFlow backend.\n"
     ]
    }
   ],
   "source": [
    "import tensorflow as tf\n",
    "import keras\n",
    "from keras import backend as K\n",
    "import numpy as np\n",
    "%matplotlib inline\n",
    "import matplotlib.pyplot as plt\n",
    "print(tf.__version__)\n",
    "print(keras.__version__)"
   ]
  },
  {
   "cell_type": "code",
   "execution_count": 0,
   "metadata": {
    "colab": {},
    "colab_type": "code",
    "id": "efsrp4vQfls5"
   },
   "outputs": [],
   "source": [
    "def reset_tf_session():\n",
    "    curr_session = tf.get_default_session()\n",
    "    if curr_session is not None:\n",
    "        curr_session.close()\n",
    "    K.clear_session()\n",
    "    config = tf.ConfigProto()\n",
    "    config.gpu_options.allow_growth = True\n",
    "    s = tf.InteractiveSession(config=config)\n",
    "    K.set_session(s)\n",
    "    return s"
   ]
  },
  {
   "cell_type": "markdown",
   "metadata": {
    "colab_type": "text",
    "id": "HE_SpMQMQm8Y"
   },
   "source": [
    "## Задание 1 — инициализация весов CNN (3 балла).\n",
    "\n",
    "В этом задании нужно будет исследовать, как выбор функции инициализации весов влияет на обучение CNN.\n"
   ]
  },
  {
   "cell_type": "markdown",
   "metadata": {
    "colab_type": "text",
    "id": "oIoAOXkJSwbs"
   },
   "source": [
    "Продолжим работать с датасетом CIFAR-10."
   ]
  },
  {
   "cell_type": "code",
   "execution_count": 3,
   "metadata": {
    "colab": {
     "base_uri": "https://localhost:8080/",
     "height": 86
    },
    "colab_type": "code",
    "id": "IsuA4kiHA4ff",
    "outputId": "8425d6dd-999a-4dc0-af62-9814f8729eaa"
   },
   "outputs": [
    {
     "name": "stdout",
     "output_type": "stream",
     "text": [
      "Downloading data from https://www.cs.toronto.edu/~kriz/cifar-10-python.tar.gz\n",
      "170500096/170498071 [==============================] - 11s 0us/step\n",
      "Train samples: (50000, 32, 32, 3) (50000, 1)\n",
      "Test samples: (10000, 32, 32, 3) (10000, 1)\n"
     ]
    }
   ],
   "source": [
    "from keras.datasets import cifar10\n",
    "(x_train, y_train), (x_test, y_test) = cifar10.load_data()\n",
    "\n",
    "NUM_CLASSES = 10\n",
    "cifar10_classes = [\"airplane\", \"automobile\", \"bird\", \"cat\", \"deer\", \n",
    "                   \"dog\", \"frog\", \"horse\", \"ship\", \"truck\"]\n",
    "\n",
    "print(\"Train samples:\", x_train.shape, y_train.shape)\n",
    "print(\"Test samples:\", x_test.shape, y_test.shape)\n",
    "\n",
    "# нормализуем входные данные\n",
    "x_train = x_train / 255 - 0.5\n",
    "x_test = x_test / 255 - 0.5\n",
    "\n",
    "y_train = keras.utils.to_categorical(y_train, 10)\n",
    "y_test = keras.utils.to_categorical(y_test, 10)"
   ]
  },
  {
   "cell_type": "code",
   "execution_count": 0,
   "metadata": {
    "colab": {},
    "colab_type": "code",
    "id": "xNl2e8LeftcC"
   },
   "outputs": [],
   "source": [
    "from keras.models import Sequential\n",
    "from keras.layers import Conv2D, MaxPooling2D, Flatten, Dense, Activation, Dropout\n",
    "from keras.layers.advanced_activations import LeakyReLU\n",
    "from keras.models import load_model"
   ]
  },
  {
   "cell_type": "markdown",
   "metadata": {
    "colab_type": "text",
    "id": "f2vQIUE3UeiE"
   },
   "source": [
    "Определим функцию `fit_model` с архитектурой архитектура CNN.\n",
    "\n",
    "Метод `model.fit` возвращает объект класса `keras.callbacks.History()` — это колбэк, который автоматически применяется ко всем моделям и логирует много чего полезного. В частности логируются значения функции потерь на каждой итерации."
   ]
  },
  {
   "cell_type": "markdown",
   "metadata": {
    "colab_type": "text",
    "id": "dDslR6vNZry8"
   },
   "source": [
    "**Задание 1.1** (0.5 балла) Добавьте в архитектуру модели инициализацию весов для тех слоев, где она необходима.\n"
   ]
  },
  {
   "cell_type": "markdown",
   "metadata": {
    "colab_type": "text",
    "id": "YzNVIP6Uu2Yk"
   },
   "source": [
    "### Веса инициализируются не только в kernell_initializer, но и также в bias_initializer, поэтому буду обновлять инициализацию для обоих аргументов. В принципе, инициализация bias практически не влияет на итоговый результат модели, то есть даже при инициализации нулями, результат будет трудноразличим по сравнению с рандомной инициализацией. График это показывающия я нашел на этом сайте (самый последний график)\n",
    "https://becominghuman.ai/priming-neural-networks-with-an-appropriate-initializer-7b163990ead.\n",
    "### Поэтому я bias тоже инициализровал рандомно."
   ]
  },
  {
   "cell_type": "code",
   "execution_count": 0,
   "metadata": {
    "colab": {},
    "colab_type": "code",
    "id": "2_Lu7SO3CMid"
   },
   "outputs": [],
   "source": [
    "def fit_model(initializer='glorot_normal'):\n",
    "    s = reset_tf_session()  \n",
    "    INIT_LR = 5e-3\n",
    "    BATCH_SIZE = 32\n",
    "    EPOCHS = 10\n",
    "   \n",
    "    def lr_scheduler(epoch):\n",
    "        return INIT_LR * 0.9 ** epoch  \n",
    "\n",
    "    ### YOUR CODE HERE \n",
    "    \n",
    "    # kernel_initializer=initializer для тех слоев, которым нужна инициализация весов\n",
    "    model = Sequential()\n",
    "    model.add(Conv2D(filters=16, padding='same', kernel_size=(3,3), input_shape=(32,32,3),\\\n",
    "                     kernel_initializer=initializer, bias_initializer=initializer))\n",
    "    model.add(LeakyReLU(0.1))\n",
    "    model.add(Conv2D(filters=64, padding='same', kernel_size=(3,3),\\\n",
    "                     kernel_initializer=initializer, bias_initializer=initializer))  \n",
    "    model.add(LeakyReLU(0.1))\n",
    "    model.add(MaxPooling2D(pool_size=(2,2), padding='same'))\n",
    "    model.add(Dropout(0.25))\n",
    "    model.add(Flatten())\n",
    "    model.add(Dense(40, kernel_initializer=initializer, bias_initializer=initializer))\n",
    "    model.add(LeakyReLU(0.1))\n",
    "    model.add(Dropout(0.5))    \n",
    "    model.add(Dense(10, kernel_initializer=initializer, bias_initializer=initializer))\n",
    "    model.add(Activation(\"softmax\"))\n",
    "\n",
    "\n",
    "    model.compile(\n",
    "        loss='categorical_crossentropy',\n",
    "        optimizer=keras.optimizers.adamax(lr=INIT_LR),\n",
    "        metrics=['accuracy']\n",
    "    )\n",
    "  \n",
    "    history = model.fit(\n",
    "        x_train, y_train,\n",
    "        batch_size=BATCH_SIZE,\n",
    "        epochs=EPOCHS,\n",
    "        callbacks=[keras.callbacks.LearningRateScheduler(lr_scheduler)],                   \n",
    "        shuffle=True,\n",
    "        verbose=0,\n",
    "        initial_epoch=0    \n",
    "    )\n",
    "\n",
    "    # Возвращаем объект класса keras.callbacks.History\n",
    "    return history"
   ]
  },
  {
   "cell_type": "markdown",
   "metadata": {
    "colab_type": "text",
    "id": "bYkZkghfT4uN"
   },
   "source": [
    "**Задание 1.2** (1.5 балла). Обучите модель с разными [функциями инициализации](https://keras.io/initializers/) весов:\n",
    "* `Zeros` — веса инициализируются нулями\n",
    "* `Constant=0.05` — веса инициализируются константой 0.05\n",
    "* `RandomUniform` — веса генерируются равномерно из отрезка [-0.05, 0.05]\n",
    "* `glorot_normal` — Xavier initializer из лекций\n",
    "* `lecun_uniform`\n",
    "\n",
    "Добавьте в список `losses` значения функции потерь для каждой функции инициализации, их можно достать из `History`\n",
    "\n"
   ]
  },
  {
   "cell_type": "code",
   "execution_count": 0,
   "metadata": {
    "colab": {},
    "colab_type": "code",
    "id": "Ns6q8VF3u2Yx"
   },
   "outputs": [],
   "source": [
    "# Одинаковый seed для возможности вопроизведения результатов\n",
    "seed = 24"
   ]
  },
  {
   "cell_type": "code",
   "execution_count": 0,
   "metadata": {
    "colab": {},
    "colab_type": "code",
    "id": "OEh00elJu2Y2"
   },
   "outputs": [],
   "source": [
    "initializers = [keras.initializers.Zeros(), keras.initializers.Constant(value=0.05),\\\n",
    "                keras.initializers.RandomUniform(minval=-0.05, maxval=0.05, seed=seed),\\\n",
    "                keras.initializers.glorot_normal(seed=seed), keras.initializers.lecun_uniform(seed=seed)]"
   ]
  },
  {
   "cell_type": "code",
   "execution_count": 8,
   "metadata": {
    "colab": {
     "base_uri": "https://localhost:8080/",
     "height": 662
    },
    "colab_type": "code",
    "id": "dTieYmgUmQ8G",
    "outputId": "f47055f3-c0b5-4769-c8f4-01614edf1d22"
   },
   "outputs": [
    {
     "name": "stdout",
     "output_type": "stream",
     "text": [
      "WARNING:tensorflow:From /usr/local/lib/python3.6/dist-packages/keras/backend/tensorflow_backend.py:107: The name tf.reset_default_graph is deprecated. Please use tf.compat.v1.reset_default_graph instead.\n",
      "\n",
      "WARNING:tensorflow:From /usr/local/lib/python3.6/dist-packages/keras/backend/tensorflow_backend.py:111: The name tf.placeholder_with_default is deprecated. Please use tf.compat.v1.placeholder_with_default instead.\n",
      "\n",
      "WARNING:tensorflow:From /usr/local/lib/python3.6/dist-packages/keras/backend/tensorflow_backend.py:66: The name tf.get_default_graph is deprecated. Please use tf.compat.v1.get_default_graph instead.\n",
      "\n",
      "WARNING:tensorflow:From /usr/local/lib/python3.6/dist-packages/keras/backend/tensorflow_backend.py:541: The name tf.placeholder is deprecated. Please use tf.compat.v1.placeholder instead.\n",
      "\n",
      "WARNING:tensorflow:From /usr/local/lib/python3.6/dist-packages/keras/backend/tensorflow_backend.py:4267: The name tf.nn.max_pool is deprecated. Please use tf.nn.max_pool2d instead.\n",
      "\n",
      "WARNING:tensorflow:From /usr/local/lib/python3.6/dist-packages/keras/backend/tensorflow_backend.py:3733: calling dropout (from tensorflow.python.ops.nn_ops) with keep_prob is deprecated and will be removed in a future version.\n",
      "Instructions for updating:\n",
      "Please use `rate` instead of `keep_prob`. Rate should be set to `rate = 1 - keep_prob`.\n",
      "WARNING:tensorflow:From /usr/local/lib/python3.6/dist-packages/keras/optimizers.py:793: The name tf.train.Optimizer is deprecated. Please use tf.compat.v1.train.Optimizer instead.\n",
      "\n",
      "WARNING:tensorflow:From /usr/local/lib/python3.6/dist-packages/keras/backend/tensorflow_backend.py:3576: The name tf.log is deprecated. Please use tf.math.log instead.\n",
      "\n",
      "WARNING:tensorflow:From /usr/local/lib/python3.6/dist-packages/tensorflow_core/python/ops/math_grad.py:1424: where (from tensorflow.python.ops.array_ops) is deprecated and will be removed in a future version.\n",
      "Instructions for updating:\n",
      "Use tf.where in 2.0, which has the same broadcast rule as np.where\n",
      "WARNING:tensorflow:From /usr/local/lib/python3.6/dist-packages/keras/backend/tensorflow_backend.py:1033: The name tf.assign_add is deprecated. Please use tf.compat.v1.assign_add instead.\n",
      "\n",
      "WARNING:tensorflow:From /usr/local/lib/python3.6/dist-packages/keras/backend/tensorflow_backend.py:1020: The name tf.assign is deprecated. Please use tf.compat.v1.assign instead.\n",
      "\n",
      "WARNING:tensorflow:From /usr/local/lib/python3.6/dist-packages/keras/backend/tensorflow_backend.py:3005: The name tf.Session is deprecated. Please use tf.compat.v1.Session instead.\n",
      "\n",
      "WARNING:tensorflow:From /usr/local/lib/python3.6/dist-packages/keras/backend/tensorflow_backend.py:207: The name tf.global_variables is deprecated. Please use tf.compat.v1.global_variables instead.\n",
      "\n",
      "WARNING:tensorflow:From /usr/local/lib/python3.6/dist-packages/keras/backend/tensorflow_backend.py:216: The name tf.is_variable_initialized is deprecated. Please use tf.compat.v1.is_variable_initialized instead.\n",
      "\n",
      "WARNING:tensorflow:From /usr/local/lib/python3.6/dist-packages/keras/backend/tensorflow_backend.py:223: The name tf.variables_initializer is deprecated. Please use tf.compat.v1.variables_initializer instead.\n",
      "\n",
      "WARNING:tensorflow:From /usr/local/lib/python3.6/dist-packages/keras/backend/tensorflow_backend.py:4432: The name tf.random_uniform is deprecated. Please use tf.random.uniform instead.\n",
      "\n",
      "WARNING:tensorflow:From /usr/local/lib/python3.6/dist-packages/keras/backend/tensorflow_backend.py:4479: The name tf.truncated_normal is deprecated. Please use tf.random.truncated_normal instead.\n",
      "\n"
     ]
    }
   ],
   "source": [
    "histories = []\n",
    "losses = []\n",
    "\n",
    "### YOUR CODE HERE\n",
    "for i, init in enumerate(initializers):\n",
    "    histories.append(fit_model(init))\n",
    "    losses.append(histories[i].history['loss'])"
   ]
  },
  {
   "cell_type": "markdown",
   "metadata": {
    "colab_type": "text",
    "id": "wsk8bCEPcOav"
   },
   "source": [
    "**Задание 1.3** (1 балла). Постройте графики зависимости функций потерь от номера итерации, подпишите их. Прокомментируйте результат."
   ]
  },
  {
   "cell_type": "code",
   "execution_count": 38,
   "metadata": {
    "colab": {
     "base_uri": "https://localhost:8080/",
     "height": 530
    },
    "colab_type": "code",
    "id": "SDriPymRzXAw",
    "outputId": "10b73962-6a8c-4afa-d845-4b55d7e8e092"
   },
   "outputs": [
    {
     "data": {
      "text/plain": [
       "<matplotlib.legend.Legend at 0x7f92a20f64e0>"
      ]
     },
     "execution_count": 38,
     "metadata": {
      "tags": []
     },
     "output_type": "execute_result"
    },
    {
     "data": {
      "image/png": "[encoded data removed]",
      "text/plain": [
       "<Figure size 720x576 with 1 Axes>"
      ]
     },
     "metadata": {
      "tags": []
     },
     "output_type": "display_data"
    }
   ],
   "source": [
    "### YOUR CODE HERE \n",
    "labels = ['Zero', 'Constant', 'RandomUniform', 'GlorotNormal', 'LecunUniform']\n",
    "\n",
    "plt.figure(figsize=(10, 8))\n",
    "for i in range(len(losses)):\n",
    "  plt.plot(np.arange(len(losses[i]))+1, losses[i], label=labels[i])\n",
    "plt.title('Loss Value w.r.t. different weight initialization')\n",
    "plt.xlabel('Epoch')\n",
    "plt.ylabel('Loss')\n",
    "plt.legend()"
   ]
  },
  {
   "cell_type": "markdown",
   "metadata": {
    "colab_type": "text",
    "id": "kv7tjf6U3Pfv"
   },
   "source": [
    "Как видно из графика, инициализация весов с одинаковыми значениями существенно замедляет процесс обучения. Это происходит из-за того, что градиенты весов для обновления становятся практически одинаковыми. В то время как рандомная инициализация весов из различных распределений показывает намного лучшие результаты. Веса совершенно случайно были подобраны при инициализации, в связи с этим, вектор градиента будет абсолютно разным для обновления. Это позволяет нейронной сети находить несовпадающие закономерности, что улучшает качество модели."
   ]
  },
  {
   "cell_type": "markdown",
   "metadata": {
    "colab_type": "text",
    "id": "nellCcusBAZ8"
   },
   "source": [
    "## Задание 2 — CNN для CIFAR-10 с сохранением весов модели (7 баллов)\n",
    "\n",
    "В этом задании мы модифицируем нейросеть с семинара, чтобы она достигала большего значения `accuracy` и научимся сохранять веса модели в файл во время обучения. Можно использовать только те же слои, которые использовались на семинаре: `Conv2D, MaxPooling2D,  LeakyReLU, Dropout, Flatten, Dense`."
   ]
  },
  {
   "cell_type": "markdown",
   "metadata": {
    "colab_type": "text",
    "id": "xuVF3c2qJwyx"
   },
   "source": [
    "**Задание 2.1** (4 балла). Подберите архитектуру модели так, чтобы значение `accuracy` на тестовой выборке было не менее 85."
   ]
  },
  {
   "cell_type": "code",
   "execution_count": 0,
   "metadata": {
    "colab": {},
    "colab_type": "code",
    "id": "syKDJPUdCtoI"
   },
   "outputs": [],
   "source": [
    "def make_model():    \n",
    "\n",
    "    ### YOUR CODE HERE\n",
    "    initializer = keras.initializers.RandomUniform(minval=-0.05, maxval=0.05, seed=seed)\n",
    "    \n",
    "    model = Sequential()\n",
    "    \n",
    "    model.add(Conv2D(filters=32, padding='same', kernel_size=(3,3), input_shape=(32,32,3),\\\n",
    "                     kernel_initializer=initializer, bias_initializer=initializer))\n",
    "    model.add(LeakyReLU(0.1))\n",
    "    model.add(Conv2D(filters=32, padding='same', kernel_size=(3,3), input_shape=(32,32,3),\\\n",
    "                     kernel_initializer=initializer, bias_initializer=initializer))\n",
    "    model.add(LeakyReLU(0.1))\n",
    "    model.add(MaxPooling2D(pool_size=(2,2), padding='same'))\n",
    "    model.add(Dropout(0.3))\n",
    "    \n",
    "    \n",
    "    model.add(Conv2D(filters=64, padding='same', kernel_size=(3,3),\\\n",
    "                     kernel_initializer=initializer, bias_initializer=initializer))\n",
    "    model.add(LeakyReLU(0.1))\n",
    "    model.add(Conv2D(filters=64, padding='same', kernel_size=(3,3),\\\n",
    "                     kernel_initializer=initializer, bias_initializer=initializer))\n",
    "    model.add(LeakyReLU(0.1))\n",
    "    model.add(MaxPooling2D(pool_size=(2,2), padding='same'))\n",
    "    model.add(Dropout(0.3))\n",
    "    \n",
    "    model.add(Conv2D(filters=128, padding='same', kernel_size=(3,3),\\\n",
    "                     kernel_initializer=initializer, bias_initializer=initializer))\n",
    "    model.add(LeakyReLU(0.1))\n",
    "    model.add(Conv2D(filters=128, padding='same', kernel_size=(3,3),\\\n",
    "                     kernel_initializer=initializer, bias_initializer=initializer))\n",
    "    model.add(LeakyReLU(0.1))\n",
    "    model.add(MaxPooling2D(pool_size=(2,2), padding='same'))\n",
    "    model.add(Dropout(0.5))\n",
    "\n",
    "    \n",
    "    model.add(Flatten())\n",
    "    \n",
    "    model.add(Dense(1024, kernel_initializer=initializer, bias_initializer=initializer))\n",
    "    model.add(LeakyReLU(0.1))\n",
    "    model.add(Dropout(0.5))\n",
    "    \n",
    "#     model.add(Dense(2048, kernel_initializer=initializer, bias_initializer=initializer))\n",
    "#     model.add(LeakyReLU(0.1))\n",
    "#     model.add(Dropout(0.3))\n",
    "    \n",
    "    model.add(Dense(10, kernel_initializer=initializer, bias_initializer=initializer))\n",
    "    model.add(Activation(\"softmax\"))\n",
    "    \n",
    "    return model"
   ]
  },
  {
   "cell_type": "code",
   "execution_count": 130,
   "metadata": {
    "colab": {
     "base_uri": "https://localhost:8080/",
     "height": 990
    },
    "colab_type": "code",
    "id": "MoZifjkgFdcg",
    "outputId": "853b24f3-8a5b-4aad-fcfe-e967dc8dd883"
   },
   "outputs": [
    {
     "name": "stdout",
     "output_type": "stream",
     "text": [
      "Model: \"sequential_1\"\n",
      "_________________________________________________________________\n",
      "Layer (type)                 Output Shape              Param #   \n",
      "=================================================================\n",
      "conv2d_1 (Conv2D)            (None, 32, 32, 32)        896       \n",
      "_________________________________________________________________\n",
      "leaky_re_lu_1 (LeakyReLU)    (None, 32, 32, 32)        0         \n",
      "_________________________________________________________________\n",
      "conv2d_2 (Conv2D)            (None, 32, 32, 32)        9248      \n",
      "_________________________________________________________________\n",
      "leaky_re_lu_2 (LeakyReLU)    (None, 32, 32, 32)        0         \n",
      "_________________________________________________________________\n",
      "max_pooling2d_1 (MaxPooling2 (None, 16, 16, 32)        0         \n",
      "_________________________________________________________________\n",
      "dropout_1 (Dropout)          (None, 16, 16, 32)        0         \n",
      "_________________________________________________________________\n",
      "conv2d_3 (Conv2D)            (None, 16, 16, 64)        18496     \n",
      "_________________________________________________________________\n",
      "leaky_re_lu_3 (LeakyReLU)    (None, 16, 16, 64)        0         \n",
      "_________________________________________________________________\n",
      "conv2d_4 (Conv2D)            (None, 16, 16, 64)        36928     \n",
      "_________________________________________________________________\n",
      "leaky_re_lu_4 (LeakyReLU)    (None, 16, 16, 64)        0         \n",
      "_________________________________________________________________\n",
      "max_pooling2d_2 (MaxPooling2 (None, 8, 8, 64)          0         \n",
      "_________________________________________________________________\n",
      "dropout_2 (Dropout)          (None, 8, 8, 64)          0         \n",
      "_________________________________________________________________\n",
      "conv2d_5 (Conv2D)            (None, 8, 8, 128)         73856     \n",
      "_________________________________________________________________\n",
      "leaky_re_lu_5 (LeakyReLU)    (None, 8, 8, 128)         0         \n",
      "_________________________________________________________________\n",
      "conv2d_6 (Conv2D)            (None, 8, 8, 128)         147584    \n",
      "_________________________________________________________________\n",
      "leaky_re_lu_6 (LeakyReLU)    (None, 8, 8, 128)         0         \n",
      "_________________________________________________________________\n",
      "max_pooling2d_3 (MaxPooling2 (None, 4, 4, 128)         0         \n",
      "_________________________________________________________________\n",
      "dropout_3 (Dropout)          (None, 4, 4, 128)         0         \n",
      "_________________________________________________________________\n",
      "flatten_1 (Flatten)          (None, 2048)              0         \n",
      "_________________________________________________________________\n",
      "dense_1 (Dense)              (None, 1024)              2098176   \n",
      "_________________________________________________________________\n",
      "leaky_re_lu_7 (LeakyReLU)    (None, 1024)              0         \n",
      "_________________________________________________________________\n",
      "dropout_4 (Dropout)          (None, 1024)              0         \n",
      "_________________________________________________________________\n",
      "dense_2 (Dense)              (None, 10)                10250     \n",
      "_________________________________________________________________\n",
      "activation_1 (Activation)    (None, 10)                0         \n",
      "=================================================================\n",
      "Total params: 2,395,434\n",
      "Trainable params: 2,395,434\n",
      "Non-trainable params: 0\n",
      "_________________________________________________________________\n"
     ]
    }
   ],
   "source": [
    "s = reset_tf_session()\n",
    "model = make_model()\n",
    "model.summary()"
   ]
  },
  {
   "cell_type": "markdown",
   "metadata": {
    "colab_type": "text",
    "id": "JJLpZQhJGBqL"
   },
   "source": [
    "**Задание 2.2** (2 балла). Реализуйте колбэк, который сохраняет модель в `.hdf5` файл и печатает имя файла, в который была сохранена модель. Используйте функцию `model_save`. Строка с именем файла имеет вид `<name>_{0:02d}.hdf5`, отформатируйте ее так, чтобы в имени строки фигурировал номер эпохи."
   ]
  },
  {
   "cell_type": "code",
   "execution_count": 0,
   "metadata": {
    "colab": {},
    "colab_type": "code",
    "id": "xYjUeuDXGBII"
   },
   "outputs": [],
   "source": [
    "from keras.models import save_model, load_model\n",
    "\n",
    "class ModelSaveCallback(keras.callbacks.Callback):\n",
    "\n",
    "    def __init__(self, file_name):\n",
    "        super(ModelSaveCallback, self).__init__()\n",
    "        self.file_name = file_name\n",
    "\n",
    "    def on_epoch_end(self, epoch, logs=None):\n",
    "        ### YOUR CODE HERE\n",
    "        epoch += 1\n",
    "        model.save(self.file_name.format(epoch))\n",
    "        print('Model saved into: {}'.format(self.file_name.format(epoch)))"
   ]
  },
  {
   "cell_type": "markdown",
   "metadata": {
    "colab_type": "text",
    "id": "Svrwkh8ALpHa"
   },
   "source": [
    "**Задание 2.3** (1 балл). Реализуйте функцию, которая с помощью `load_model` будет загружать модель из файла."
   ]
  },
  {
   "cell_type": "code",
   "execution_count": 0,
   "metadata": {
    "colab": {},
    "colab_type": "code",
    "id": "fVD0P5V7M00C"
   },
   "outputs": [],
   "source": [
    "def load_from_file(model_filename, last_epoch):\n",
    "  ### YOUR CODE HERE\n",
    "  model = load_model(model_filename)\n",
    "  epoch = last_epoch\n",
    "  return model"
   ]
  },
  {
   "cell_type": "code",
   "execution_count": 133,
   "metadata": {
    "colab": {
     "base_uri": "https://localhost:8080/",
     "height": 1000
    },
    "colab_type": "code",
    "id": "zOLb6flQFjCw",
    "outputId": "00afd066-7ccf-4cf1-8073-4f5cf56d6b30"
   },
   "outputs": [
    {
     "name": "stdout",
     "output_type": "stream",
     "text": [
      "Train on 50000 samples, validate on 10000 samples\n",
      "Epoch 1/20\n",
      "50000/50000 [==============================] - 42s 849us/step - loss: 1.5464 - acc: 0.4313 - val_loss: 1.1269 - val_acc: 0.5911\n",
      "Model saved into: weights_01.hdf5\n",
      "Epoch 2/20\n",
      "50000/50000 [==============================] - 40s 792us/step - loss: 1.0726 - acc: 0.6194 - val_loss: 0.8978 - val_acc: 0.6910\n",
      "Model saved into: weights_02.hdf5\n",
      "Epoch 3/20\n",
      "50000/50000 [==============================] - 40s 805us/step - loss: 0.9044 - acc: 0.6858 - val_loss: 0.7710 - val_acc: 0.7343\n",
      "Model saved into: weights_03.hdf5\n",
      "Epoch 4/20\n",
      "50000/50000 [==============================] - 40s 807us/step - loss: 0.8124 - acc: 0.7154 - val_loss: 0.7425 - val_acc: 0.7501\n",
      "Model saved into: weights_04.hdf5\n",
      "Epoch 5/20\n",
      "50000/50000 [==============================] - 39s 789us/step - loss: 0.7406 - acc: 0.7412 - val_loss: 0.6635 - val_acc: 0.7728\n",
      "Model saved into: weights_05.hdf5\n",
      "Epoch 6/20\n",
      "50000/50000 [==============================] - 38s 768us/step - loss: 0.6862 - acc: 0.7606 - val_loss: 0.6098 - val_acc: 0.7955\n",
      "Model saved into: weights_06.hdf5\n",
      "Epoch 7/20\n",
      "50000/50000 [==============================] - 38s 767us/step - loss: 0.6461 - acc: 0.7766 - val_loss: 0.5826 - val_acc: 0.8009\n",
      "Model saved into: weights_07.hdf5\n",
      "Epoch 8/20\n",
      "50000/50000 [==============================] - 39s 771us/step - loss: 0.6027 - acc: 0.7910 - val_loss: 0.5514 - val_acc: 0.8132\n",
      "Model saved into: weights_08.hdf5\n",
      "Epoch 9/20\n",
      "50000/50000 [==============================] - 39s 771us/step - loss: 0.5644 - acc: 0.8053 - val_loss: 0.5746 - val_acc: 0.8098\n",
      "Model saved into: weights_09.hdf5\n",
      "Epoch 10/20\n",
      "50000/50000 [==============================] - 39s 770us/step - loss: 0.5362 - acc: 0.8130 - val_loss: 0.5363 - val_acc: 0.8240\n",
      "Model saved into: weights_10.hdf5\n",
      "Epoch 11/20\n",
      "50000/50000 [==============================] - 38s 766us/step - loss: 0.5081 - acc: 0.8229 - val_loss: 0.5200 - val_acc: 0.8298\n",
      "Model saved into: weights_11.hdf5\n",
      "Epoch 12/20\n",
      "50000/50000 [==============================] - 39s 774us/step - loss: 0.4863 - acc: 0.8329 - val_loss: 0.5267 - val_acc: 0.8264\n",
      "Model saved into: weights_12.hdf5\n",
      "Epoch 13/20\n",
      "50000/50000 [==============================] - 39s 780us/step - loss: 0.4647 - acc: 0.8387 - val_loss: 0.5255 - val_acc: 0.8257\n",
      "Model saved into: weights_13.hdf5\n",
      "Epoch 14/20\n",
      "50000/50000 [==============================] - 39s 775us/step - loss: 0.4459 - acc: 0.8447 - val_loss: 0.5056 - val_acc: 0.8341\n",
      "Model saved into: weights_14.hdf5\n",
      "Epoch 15/20\n",
      "50000/50000 [==============================] - 39s 770us/step - loss: 0.4222 - acc: 0.8536 - val_loss: 0.4921 - val_acc: 0.8377\n",
      "Model saved into: weights_15.hdf5\n",
      "Epoch 16/20\n",
      "50000/50000 [==============================] - 39s 775us/step - loss: 0.4070 - acc: 0.8581 - val_loss: 0.4859 - val_acc: 0.8420\n",
      "Model saved into: weights_16.hdf5\n",
      "Epoch 17/20\n",
      "50000/50000 [==============================] - 39s 775us/step - loss: 0.3954 - acc: 0.8627 - val_loss: 0.4810 - val_acc: 0.8433\n",
      "Model saved into: weights_17.hdf5\n",
      "Epoch 18/20\n",
      "50000/50000 [==============================] - 39s 782us/step - loss: 0.3807 - acc: 0.8676 - val_loss: 0.4741 - val_acc: 0.8447\n",
      "Model saved into: weights_18.hdf5\n",
      "Epoch 19/20\n",
      "50000/50000 [==============================] - 38s 766us/step - loss: 0.3684 - acc: 0.8710 - val_loss: 0.4795 - val_acc: 0.8478\n",
      "Model saved into: weights_19.hdf5\n",
      "Epoch 20/20\n",
      "50000/50000 [==============================] - 38s 766us/step - loss: 0.3541 - acc: 0.8760 - val_loss: 0.4616 - val_acc: 0.8512\n",
      "Model saved into: weights_20.hdf5\n"
     ]
    }
   ],
   "source": [
    "INIT_LR = 5e-3\n",
    "BATCH_SIZE = 32\n",
    "EPOCHS = 20\n",
    "\n",
    "model_filename = 'weights_{0:02d}.hdf5'\n",
    "\n",
    "s = reset_tf_session()\n",
    "\n",
    "model = make_model()\n",
    "\n",
    "model.compile(\n",
    "    loss='categorical_crossentropy',\n",
    "    optimizer=keras.optimizers.adamax(lr=INIT_LR),\n",
    "    metrics=['accuracy']\n",
    ")\n",
    "\n",
    "def lr_scheduler(epoch):\n",
    "    return INIT_LR * 0.9 ** epoch \n",
    "\n",
    "# в случае, если обучение было прервано, можно загрузить модель из файла, \n",
    "# соответствующего последней эпохе, за которую есть сохраненные веса\n",
    "# model = load_from_file(model_filename, 4)\n",
    "  \n",
    "history = model.fit(\n",
    "    x_train, y_train,\n",
    "    batch_size=BATCH_SIZE,\n",
    "    epochs=EPOCHS,\n",
    "    callbacks=[keras.callbacks.LearningRateScheduler(lr_scheduler), \n",
    "               # не забудьте передать сюда ModelSaveCallback\n",
    "               ModelSaveCallback(model_filename)\n",
    "              ],\n",
    "    validation_data=(x_test, y_test),\n",
    "    shuffle=True,\n",
    "    verbose=1,\n",
    "    initial_epoch=0    \n",
    ")\n",
    "  "
   ]
  },
  {
   "cell_type": "code",
   "execution_count": 134,
   "metadata": {
    "colab": {
     "base_uri": "https://localhost:8080/",
     "height": 416
    },
    "colab_type": "code",
    "id": "puECJNLr8lh4",
    "outputId": "f602b874-5868-494c-dd55-80f2bb5de46e"
   },
   "outputs": [
    {
     "data": {
      "text/plain": [
       "['.config',\n",
       " 'weights_18.hdf5',\n",
       " 'weights_05.hdf5',\n",
       " 'weights_04.hdf5',\n",
       " 'weights_20.hdf5',\n",
       " 'weights_00.hdf5',\n",
       " 'weights_16.hdf5',\n",
       " 'weights_03.hdf5',\n",
       " 'weights_14.hdf5',\n",
       " 'weights_07.hdf5',\n",
       " 'weights_02.hdf5',\n",
       " 'weights_15.hdf5',\n",
       " 'weights_10.hdf5',\n",
       " 'weights_12.hdf5',\n",
       " 'weights_13.hdf5',\n",
       " 'weights_09.hdf5',\n",
       " 'weights_19.hdf5',\n",
       " 'weights_01.hdf5',\n",
       " 'weights_11.hdf5',\n",
       " 'weights_17.hdf5',\n",
       " 'weights_06.hdf5',\n",
       " 'weights_08.hdf5',\n",
       " 'sample_data']"
      ]
     },
     "execution_count": 134,
     "metadata": {
      "tags": []
     },
     "output_type": "execute_result"
    }
   ],
   "source": [
    "import os\n",
    "os.listdir()"
   ]
  },
  {
   "cell_type": "code",
   "execution_count": 0,
   "metadata": {
    "colab": {},
    "colab_type": "code",
    "id": "ZJv6wmYsInQ5"
   },
   "outputs": [],
   "source": [
    "model = load_from_file('weights_20.hdf5', 20)"
   ]
  },
  {
   "cell_type": "code",
   "execution_count": 137,
   "metadata": {
    "colab": {
     "base_uri": "https://localhost:8080/",
     "height": 990
    },
    "colab_type": "code",
    "id": "DehNbsooO-F2",
    "outputId": "b272595f-805b-4fc4-d221-3b701327ebd9"
   },
   "outputs": [
    {
     "name": "stdout",
     "output_type": "stream",
     "text": [
      "Model: \"sequential_1\"\n",
      "_________________________________________________________________\n",
      "Layer (type)                 Output Shape              Param #   \n",
      "=================================================================\n",
      "conv2d_1 (Conv2D)            (None, 32, 32, 32)        896       \n",
      "_________________________________________________________________\n",
      "leaky_re_lu_1 (LeakyReLU)    (None, 32, 32, 32)        0         \n",
      "_________________________________________________________________\n",
      "conv2d_2 (Conv2D)            (None, 32, 32, 32)        9248      \n",
      "_________________________________________________________________\n",
      "leaky_re_lu_2 (LeakyReLU)    (None, 32, 32, 32)        0         \n",
      "_________________________________________________________________\n",
      "max_pooling2d_1 (MaxPooling2 (None, 16, 16, 32)        0         \n",
      "_________________________________________________________________\n",
      "dropout_1 (Dropout)          (None, 16, 16, 32)        0         \n",
      "_________________________________________________________________\n",
      "conv2d_3 (Conv2D)            (None, 16, 16, 64)        18496     \n",
      "_________________________________________________________________\n",
      "leaky_re_lu_3 (LeakyReLU)    (None, 16, 16, 64)        0         \n",
      "_________________________________________________________________\n",
      "conv2d_4 (Conv2D)            (None, 16, 16, 64)        36928     \n",
      "_________________________________________________________________\n",
      "leaky_re_lu_4 (LeakyReLU)    (None, 16, 16, 64)        0         \n",
      "_________________________________________________________________\n",
      "max_pooling2d_2 (MaxPooling2 (None, 8, 8, 64)          0         \n",
      "_________________________________________________________________\n",
      "dropout_2 (Dropout)          (None, 8, 8, 64)          0         \n",
      "_________________________________________________________________\n",
      "conv2d_5 (Conv2D)            (None, 8, 8, 128)         73856     \n",
      "_________________________________________________________________\n",
      "leaky_re_lu_5 (LeakyReLU)    (None, 8, 8, 128)         0         \n",
      "_________________________________________________________________\n",
      "conv2d_6 (Conv2D)            (None, 8, 8, 128)         147584    \n",
      "_________________________________________________________________\n",
      "leaky_re_lu_6 (LeakyReLU)    (None, 8, 8, 128)         0         \n",
      "_________________________________________________________________\n",
      "max_pooling2d_3 (MaxPooling2 (None, 4, 4, 128)         0         \n",
      "_________________________________________________________________\n",
      "dropout_3 (Dropout)          (None, 4, 4, 128)         0         \n",
      "_________________________________________________________________\n",
      "flatten_1 (Flatten)          (None, 2048)              0         \n",
      "_________________________________________________________________\n",
      "dense_1 (Dense)              (None, 1024)              2098176   \n",
      "_________________________________________________________________\n",
      "leaky_re_lu_7 (LeakyReLU)    (None, 1024)              0         \n",
      "_________________________________________________________________\n",
      "dropout_4 (Dropout)          (None, 1024)              0         \n",
      "_________________________________________________________________\n",
      "dense_2 (Dense)              (None, 10)                10250     \n",
      "_________________________________________________________________\n",
      "activation_1 (Activation)    (None, 10)                0         \n",
      "=================================================================\n",
      "Total params: 2,395,434\n",
      "Trainable params: 2,395,434\n",
      "Non-trainable params: 0\n",
      "_________________________________________________________________\n"
     ]
    }
   ],
   "source": [
    "model.summary()"
   ]
  },
  {
   "cell_type": "code",
   "execution_count": 0,
   "metadata": {
    "colab": {},
    "colab_type": "code",
    "id": "twNR5Sf1SY1M"
   },
   "outputs": [],
   "source": [
    "|"
   ]
  }
 ],
 "metadata": {
  "accelerator": "GPU",
  "colab": {
   "name": "hw3.ipynb",
   "provenance": []
  },
  "kernelspec": {
   "display_name": "Python 3",
   "language": "python",
   "name": "python3"
  },
  "language_info": {
   "codemirror_mode": {
    "name": "ipython",
    "version": 3
   },
   "file_extension": ".py",
   "mimetype": "text/x-python",
   "name": "python",
   "nbconvert_exporter": "python",
   "pygments_lexer": "ipython3",
   "version": "3.7.1"
  }
 },
 "nbformat": 4,
 "nbformat_minor": 1
}
